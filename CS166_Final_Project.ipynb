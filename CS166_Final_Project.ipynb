{
  "nbformat": 4,
  "nbformat_minor": 0,
  "metadata": {
    "colab": {
      "name": "CS166 Final Project.ipynb",
      "provenance": []
    },
    "kernelspec": {
      "name": "python3",
      "display_name": "Python 3"
    }
  },
  "cells": [
    {
      "cell_type": "code",
      "metadata": {
        "id": "dmFzvkVdbALB",
        "colab_type": "code",
        "colab": {}
      },
      "source": [
        "#Import libraries\n",
        "import random\n",
        "import numpy as np\n",
        "from copy import deepcopy\n",
        "from math import ceil, floor\n",
        "import matplotlib.pyplot as plt\n"
      ],
      "execution_count": 0,
      "outputs": []
    },
    {
      "cell_type": "code",
      "metadata": {
        "id": "9f4WGgDXNk9Q",
        "colab_type": "code",
        "colab": {}
      },
      "source": [
        "\n",
        "\n",
        "class crowd_egress():\n",
        "  \"\"\"\n",
        "  people: Integer, specifies the number of people in the room\n",
        "  room_dim: Tuple of two integers, specifies the dimensions of the room\n",
        "  e.g. (20,10) = 20 meters width, 10 meters length\n",
        "  exits: Integer, specifies the number of exits in the room\n",
        "  exit_size: Integer, specifies the size of each exit in the room\n",
        "  \"\"\"\n",
        "\n",
        "  def __init__(self,people, room_dim, exits, exit_size):\n",
        "    self.people = people\n",
        "    self.room_dim = room_dim\n",
        "    self.exits = exits\n",
        "    self.exit_size = exit_size\n",
        "    self.room = [[0 for x in range(room_dim[0])] for x in range(room_dim[1])]\n",
        "    #stores exit locations\n",
        "    self.exit_loc = []\n",
        "    self.exit_mids = []\n",
        "\n",
        "  #Function to initialize the simulation\n",
        "  #Initialize people to a 1 while empty spots in the room are a 0\n",
        "  def initialize(self):\n",
        "\n",
        "    count = 0\n",
        "\n",
        "    #While loop for the case where we randomly choose the same spot to assign\n",
        "    #people\n",
        "    while count != self.people:\n",
        "      row = random.randint(0,self.room_dim[1]-1)\n",
        "      column = random.randint(0,self.room_dim[0]-1)\n",
        "\n",
        "      if self.room[row][column] != 1:\n",
        "        self.room[row][column] = 1\n",
        "        count+= 1\n",
        "      \n",
        "    #initialize exits\n",
        "    for i in range(self.exits):\n",
        "        \n",
        "      placed = False\n",
        "      while placed == False:\n",
        "        \n",
        "        \n",
        "        #choose one of the four walls to place an exit on\n",
        "        #1 = north wall, 2 = east wall, 3 = south wall, 4 = west wall\n",
        "        wall = random.randint(1,4)\n",
        "        if wall == 1 or wall == 3:\n",
        "          start_point = random.randint(0,self.room_dim[0]-self.exit_size)\n",
        "\n",
        "          #Check if an exit already exists at those points\n",
        "          #If it does then run the loop again\n",
        "          exist = False\n",
        "          if wall == 1:\n",
        "            for coordinates in self.exit_loc:\n",
        "              for i in range(start_point,start_point+self.exit_size):\n",
        "                if (0,i) == coordinates:\n",
        "                  exist = True\n",
        "                  break\n",
        "              if exist == True:\n",
        "                break\n",
        "            if exist == True:            \n",
        "              continue\n",
        "          else:\n",
        "            for coordinates in self.exit_loc:\n",
        "              for i in range(start_point,start_point+self.exit_size):\n",
        "                if (self.room_dim[1]-1,i) == coordinates:\n",
        "                  exist = True\n",
        "                  break\n",
        "              if exist == True:\n",
        "                break\n",
        "            if exist == True:            \n",
        "              continue\n",
        "\n",
        "\n",
        "        elif wall == 2 or wall == 4:\n",
        "          start_point = random.randint(0,self.room_dim[1]-self.exit_size)\n",
        "          #Check if an exit already exists at those points\n",
        "          #If it does then run the loop again\n",
        "          exist = False\n",
        "          if wall == 2:\n",
        "            for coordinates in self.exit_loc:\n",
        "              for i in range(start_point,start_point+self.exit_size):\n",
        "                if (i,self.room_dim[0]-1) == coordinates:\n",
        "                  exist = True\n",
        "                  break\n",
        "              if exist == True:\n",
        "                break\n",
        "            if exist == True:            \n",
        "              continue\n",
        "          else:\n",
        "            for coordinates in self.exit_loc:\n",
        "              for i in range(start_point,start_point+self.exit_size):\n",
        "                if (i,0) == coordinates:\n",
        "                  exist = True\n",
        "                  break\n",
        "              if exist == True:\n",
        "                break\n",
        "            if exist == True:            \n",
        "              continue\n",
        "\n",
        "\n",
        "        #Make exits relative to the wall chosen\n",
        "        if wall == 1:\n",
        "          for i in range(self.exit_size):\n",
        "            self.exit_loc.append((0,start_point+i))\n",
        "          placed = True  \n",
        "          continue\n",
        "        if wall == 2:\n",
        "            for i in range(self.exit_size):\n",
        "              self.exit_loc.append((start_point+i,self.room_dim[0]-1))\n",
        "            placed = True  \n",
        "            continue\n",
        "        if wall == 3:\n",
        "            for i in range(self.exit_size):\n",
        "              self.exit_loc.append((self.room_dim[1]-1,start_point+i))\n",
        "            placed = True\n",
        "            continue\n",
        "        if wall == 4:\n",
        "            for i in range(self.exit_size):\n",
        "              self.exit_loc.append((start_point+i,0))\n",
        "            placed = True \n",
        "            continue\n",
        "\n",
        "    #Calculate the mid point of each gate for mahalanobis distance\n",
        "    for i in range(0,len(self.exit_loc),self.exit_size):\n",
        "      self.exit_mids.append(np.mean(self.exit_loc[i:i+self.exit_size], axis=0))\n",
        "\n",
        "    #In the case of an even sized exit, randomly choose one of the middle\n",
        "    #points to be the middle one\n",
        "    for j in range(len(self.exit_mids)):\n",
        "      if random.random() < 0.5:\n",
        "        self.exit_mids[j][0] = ceil(self.exit_mids[j][0])\n",
        "        self.exit_mids[j][1] = ceil(self.exit_mids[j][1])\n",
        "      else:\n",
        "        self.exit_mids[j][0] = floor(self.exit_mids[j][0])\n",
        "        self.exit_mids[j][1] = floor(self.exit_mids[j][1]) \n",
        "\n",
        "    return(self.room)     \n",
        "        \n",
        "\n",
        "\n",
        "\n",
        "  #Update the simulation by one time step\n",
        "  def update(self):\n",
        "    \n",
        "    #Copy current state to have an intermediate state\n",
        "    next_step = deepcopy(self.room)\n",
        "\n",
        "    #Get coordinates of each person\n",
        "    ppl = np.where(np.array(self.room)==1)\n",
        "\n",
        "    \n",
        "\n",
        "    #Check if anyone is on the exit location so we can show they exited\n",
        "    #in the next step\n",
        "    for i in range(len(ppl[0])):\n",
        "      if (ppl[0][i],ppl[1][i]) in self.exit_loc:\n",
        "        next_step[ppl[0][i]][ppl[1][i]] = 0\n",
        "        self.room[ppl[0][i]][ppl[1][i]] = 0\n",
        "\n",
        "\n",
        "    distances = []\n",
        "    #Calculate mahalanobis distance for each person\n",
        "    for i in range(len(ppl[0])):\n",
        "      one_person = []\n",
        "      for x in self.exit_mids:\n",
        "        \n",
        "        #Calculate cost to each gate. Cost is +1 per person on the route\n",
        "        cost = 0\n",
        "\n",
        "        if ppl[0][i] - x[0] < 0:\n",
        "          step = 1\n",
        "        else:\n",
        "          step = -1 \n",
        "\n",
        "        if ppl[1][i] - x[1] < 0:\n",
        "          step1 = 1\n",
        "        else:\n",
        "          step1 = -1     \n",
        "\n",
        "        #Calculate the cost of moving vertically\n",
        "        for j in range(ppl[0][i],int(x[0]),step):\n",
        "          if step == 1:\n",
        "            if self.room[j+1][ppl[1][i]] == 1:\n",
        "              cost += 1\n",
        "          else:\n",
        "              self.room[j-1][ppl[1][i]] == 1\n",
        "              cost += 1\n",
        "\n",
        "        #Calculate the cost of moving horizontally\n",
        "        for j in range(ppl[1][i],int(x[1]),step1):\n",
        "          if step1 == 1:\n",
        "            if self.room[int(x[0])][j+1] == 1:\n",
        "              cost += 1   \n",
        "          else:\n",
        "            if self.room[int(x[0])][j-1] == 1:\n",
        "              cost += 1            \n",
        "        #Appends the coordinates of the person and their MH distance + cost\n",
        "        #to each wall + wall coordinates\n",
        "        one_person.append((ppl[0][i],ppl[1][i], abs(ppl[0][i]-x[0])+\n",
        "                                                    abs(ppl[1][i]-x[1])+\n",
        "                                                    cost,(x[0],x[1])))\n",
        "      distances.append(one_person)\n",
        "\n",
        "      #Choose which direction to move in by sorting according the list according\n",
        "      #to MH distance, and just keep the first item\n",
        "      directions = []\n",
        "      for i in range(len(distances)):\n",
        "        directions.append(sorted(distances[i])[0])\n",
        "\n",
        "\n",
        "              \n",
        "    #print(self.exit_mids)\n",
        "    #print(self.exit_loc)\n",
        "    #print(len(distances))\n",
        "    #print(next_step)\n",
        "\n",
        "    optimal_moves = []\n",
        "\n",
        "    for i in directions:\n",
        "      #If conditions to check which wall we are going to\n",
        "      #wall 1\n",
        "      if i[3][0] == 0:\n",
        "        #check if vertical movement is possible\n",
        "        if i[0]-1 >= 0:\n",
        "          if self.room[i[0]-1][i[1]] == 0:\n",
        "            optimal_moves.append(((i[0],i[1]),(i[0]-1,i[1])))\n",
        "        \n",
        "        #check direction of horizontal movement\n",
        "        \n",
        "        #move left\n",
        "        elif i[1]-i[3][1] > 0:\n",
        "          if self.room[i[0]][i[1]-1] == 0:\n",
        "            optimal_moves.append(((i[0],i[1]),(i[0],i[1]-1)))\n",
        "          \n",
        "        #move right\n",
        "        elif i[1]-i[3][1] < 0:\n",
        "          if self.room[i[0]][i[1]+1] == 0:\n",
        "            optimal_moves.append(((i[0],i[1]),(i[0],i[1]+1)))\n",
        "\n",
        "        #don't move if the exit is straight ahead of you \n",
        "          \n",
        "\n",
        "      #wall 3\n",
        "      elif i[3][0] == self.room_dim[1]-1:\n",
        "      #check if vertical movement is possible\n",
        "        if i[0]+1 <= self.room_dim[1]-1:\n",
        "          if self.room[i[0]+1][i[1]] == 0:\n",
        "            optimal_moves.append(((i[0],i[1]),(i[0]+1,i[1])))\n",
        "        \n",
        "        #check direction of horizontal movement\n",
        "        \n",
        "        #move left\n",
        "        elif i[1]-i[3][1] > 0:\n",
        "          if self.room[i[0]][i[1]-1] == 0:\n",
        "            optimal_moves.append(((i[0],i[1]),(i[0],i[1]-1)))\n",
        "          \n",
        "        #move right\n",
        "        elif i[1]-i[3][1] < 0:\n",
        "          if self.room[i[0]][i[1]+1] == 0:\n",
        "            optimal_moves.append(((i[0],i[1]),(i[0],i[1]+1)))\n",
        "\n",
        "      #wall 4\n",
        "      elif i[3][1] == 0:\n",
        "        #check if horizontal movement is possible\n",
        "        if i[1]-1 >= 0:\n",
        "          if self.room[i[0]][i[1]-1] == 0:\n",
        "            optimal_moves.append(((i[0],i[1]),(i[0],i[1]-1)))\n",
        "        \n",
        "        #check direction of vertical movement\n",
        "        \n",
        "        #move up\n",
        "        elif i[0]-i[3][0] > 0:\n",
        "          if self.room[i[0]-1][i[1]] == 0:\n",
        "            optimal_moves.append(((i[0],i[1]),(i[0]-1,i[1])))\n",
        "          \n",
        "        #move down\n",
        "        elif i[0]-i[3][0] < 0:\n",
        "          if self.room[i[0]+1][i[1]] == 0:\n",
        "            optimal_moves.append(((i[0],i[1]),(i[0]+1,i[1])))\n",
        "\n",
        "        \n",
        "\n",
        "      #wall 2  \n",
        "      elif i[3][1] == self.room_dim[0]-1:\n",
        "        #check if horizontal movement is possible\n",
        "        if i[1]+1 <= self.room_dim[0]-1:\n",
        "          if self.room[i[0]][i[1]+1] == 0:\n",
        "            optimal_moves.append(((i[0],i[1]),(i[0],i[1]+1)))\n",
        "        \n",
        "        #check direction of vertical movement\n",
        "        \n",
        "        #move up\n",
        "        elif i[0]-i[3][0] > 0:\n",
        "          if self.room[i[0]-1][i[1]] == 0:\n",
        "            optimal_moves.append(((i[0],i[1]),(i[0]-1,i[1])))\n",
        "          \n",
        "        #move down\n",
        "        elif i[0]-i[3][0] < 0:\n",
        "          if self.room[i[0]+1][i[1]] == 0:\n",
        "            optimal_moves.append(((i[0],i[1]),(i[0]+1,i[1])))\n",
        "    \n",
        "    #check if more than one person has the same optimal move and randomly choose\n",
        "    #one person to move\n",
        "    optimal = [i[1] for i in optimal_moves]\n",
        "    unique = set(optimal)\n",
        "    indices = []\n",
        "    for i in unique:\n",
        "      index = []\n",
        "      for j in range(len(optimal)):\n",
        "        if optimal[j] == i:\n",
        "          index.append(j)\n",
        "      indices.append(index)\n",
        "    \n",
        "    #get rid of the indices which are duplicates randomly\n",
        "    for i in range(len(indices)):\n",
        "      while(len(indices[i])>1):\n",
        "        indices[i].remove(random.choice(indices[i]))\n",
        "    #Update next state\n",
        "    for i in indices:\n",
        "      next_step[optimal_moves[i[0]][0][0]][optimal_moves[i[0]][0][1]] = 0\n",
        "      next_step[optimal_moves[i[0]][1][0]][optimal_moves[i[0]][1][1]] = 1\n",
        "\n",
        "    self.room = deepcopy(next_step)\n",
        "\n",
        "\n",
        "\n"
      ],
      "execution_count": 0,
      "outputs": []
    },
    {
      "cell_type": "code",
      "metadata": {
        "id": "1zYF5RyB3mhh",
        "colab_type": "code",
        "outputId": "f1511216-776c-4f3e-f0a0-3ec9a85c9f3b",
        "colab": {
          "base_uri": "https://localhost:8080/",
          "height": 1000
        }
      },
      "source": [
        "simulation = crowd_egress(100,(50,50),8,1)\n",
        "simulation.initialize()\n",
        "j=0\n",
        "while np.count_nonzero(simulation.room) != 0:\n",
        "        if j % 5 == 0:\n",
        "          plt.imshow(simulation.room, cmap=\"Greys\", interpolation=\"nearest\")\n",
        "          plt.show()\n",
        "        j += 1\n",
        "        simulation.update()\n",
        "plt.imshow(simulation.room, cmap=\"Greys\", interpolation=\"nearest\")\n",
        "plt.show()\n"
      ],
      "execution_count": 11,
      "outputs": [
        {
          "output_type": "display_data",
          "data": {
            "image/png": "[encoded data removed]",
            "text/plain": [
              "<Figure size 432x288 with 1 Axes>"
            ]
          },
          "metadata": {
            "tags": []
          }
        },
        {
          "output_type": "display_data",
          "data": {
            "image/png": "[encoded data removed]",
            "text/plain": [
              "<Figure size 432x288 with 1 Axes>"
            ]
          },
          "metadata": {
            "tags": []
          }
        },
        {
          "output_type": "display_data",
          "data": {
            "image/png": "[encoded data removed]",
            "text/plain": [
              "<Figure size 432x288 with 1 Axes>"
            ]
          },
          "metadata": {
            "tags": []
          }
        },
        {
          "output_type": "display_data",
          "data": {
            "image/png": "[encoded data removed]",
            "text/plain": [
              "<Figure size 432x288 with 1 Axes>"
            ]
          },
          "metadata": {
            "tags": []
          }
        },
        {
          "output_type": "display_data",
          "data": {
            "image/png": "[encoded data removed]",
            "text/plain": [
              "<Figure size 432x288 with 1 Axes>"
            ]
          },
          "metadata": {
            "tags": []
          }
        },
        {
          "output_type": "display_data",
          "data": {
            "image/png": "[encoded data removed]",
            "text/plain": [
              "<Figure size 432x288 with 1 Axes>"
            ]
          },
          "metadata": {
            "tags": []
          }
        },
        {
          "output_type": "display_data",
          "data": {
            "image/png": "[encoded data removed]",
            "text/plain": [
              "<Figure size 432x288 with 1 Axes>"
            ]
          },
          "metadata": {
            "tags": []
          }
        },
        {
          "output_type": "display_data",
          "data": {
            "image/png": "[encoded data removed]",
            "text/plain": [
              "<Figure size 432x288 with 1 Axes>"
            ]
          },
          "metadata": {
            "tags": []
          }
        },
        {
          "output_type": "display_data",
          "data": {
            "image/png": "[encoded data removed]",
            "text/plain": [
              "<Figure size 432x288 with 1 Axes>"
            ]
          },
          "metadata": {
            "tags": []
          }
        },
        {
          "output_type": "display_data",
          "data": {
            "image/png": "[encoded data removed]",
            "text/plain": [
              "<Figure size 432x288 with 1 Axes>"
            ]
          },
          "metadata": {
            "tags": []
          }
        },
        {
          "output_type": "display_data",
          "data": {
            "image/png": "[encoded data removed]",
            "text/plain": [
              "<Figure size 432x288 with 1 Axes>"
            ]
          },
          "metadata": {
            "tags": []
          }
        },
        {
          "output_type": "display_data",
          "data": {
            "image/png": "[encoded data removed]",
            "text/plain": [
              "<Figure size 432x288 with 1 Axes>"
            ]
          },
          "metadata": {
            "tags": []
          }
        },
        {
          "output_type": "display_data",
          "data": {
            "image/png": "[encoded data removed]",
            "text/plain": [
              "<Figure size 432x288 with 1 Axes>"
            ]
          },
          "metadata": {
            "tags": []
          }
        },
        {
          "output_type": "display_data",
          "data": {
            "image/png": "[encoded data removed]",
            "text/plain": [
              "<Figure size 432x288 with 1 Axes>"
            ]
          },
          "metadata": {
            "tags": []
          }
        },
        {
          "output_type": "display_data",
          "data": {
            "image/png": "[encoded data removed]",
            "text/plain": [
              "<Figure size 432x288 with 1 Axes>"
            ]
          },
          "metadata": {
            "tags": []
          }
        }
      ]
    },
    {
      "cell_type": "code",
      "metadata": {
        "id": "QZuJUNxd1tBQ",
        "colab_type": "code",
        "colab": {}
      },
      "source": [
        "#Cell to simulate different parameter settings for comparison\n",
        "\n",
        "\"\"\"\n",
        "#Simulate different settings\n",
        "all_times = []\n",
        "settings = []\n",
        "\n",
        "#symmetrical rooms being tested\n",
        "dimensions = [x for x in range(20,61,10)]\n",
        "people = [x for x in range(10,211,40)]\n",
        "\n",
        "for dim in dimensions:\n",
        "  for ppl in people:\n",
        "    time = []\n",
        "    for i in range(1000):\n",
        "      time_taken = 0\n",
        "      x = crowd_egress(ppl,(dim,dim),4,2)\n",
        "      x.initialize()\n",
        "      #j = 0\n",
        "      while np.count_nonzero(x.room) != 0:\n",
        "        #j += 1\n",
        "        #if j % 10 == 0:\n",
        "        #  plt.imshow(x.room, cmap=\"Greys\", interpolation=\"nearest\")\n",
        "        #  plt.show()\n",
        "        x.update()\n",
        "        time_taken += 1\n",
        "      time.append(time_taken) \n",
        "    all_times.append(time) \n",
        "    settings.append((ppl,(dim,dim),4,2))   \n",
        "\"\"\""
      ],
      "execution_count": 0,
      "outputs": []
    }
  ]
}